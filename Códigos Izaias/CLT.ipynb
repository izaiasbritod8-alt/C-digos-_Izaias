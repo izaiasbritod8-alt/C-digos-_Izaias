{
 "cells": [
  {
   "cell_type": "markdown",
   "id": "31ddb5a4",
   "metadata": {},
   "source": [
    "###CLT"
   ]
  },
  {
   "cell_type": "code",
   "execution_count": null,
   "id": "ecc48131",
   "metadata": {},
   "outputs": [],
   "source": [
    "salario=2800\n",
    "agua=150\n",
    "luz=300\n",
    "comida=600\n",
    "lazer=99\n",
    "gato=25\n",
    "\n",
    "\n",
    "\n"
   ]
  }
 ],
 "metadata": {
  "language_info": {
   "name": "python"
  }
 },
 "nbformat": 4,
 "nbformat_minor": 5
}
